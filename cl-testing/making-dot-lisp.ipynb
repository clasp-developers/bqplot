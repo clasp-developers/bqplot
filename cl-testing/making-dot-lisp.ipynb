{
 "cells": [
  {
   "cell_type": "code",
   "execution_count": 1,
   "metadata": {},
   "outputs": [
    {
     "name": "stderr",
     "output_type": "stream",
     "text": [
      ";; Swank started at port: 4005.\n"
     ]
    },
    {
     "data": {
      "text/plain": [
       "T"
      ]
     },
     "execution_count": 1,
     "metadata": {},
     "output_type": "execute_result"
    }
   ],
   "source": [
    "(start-swank)"
   ]
  },
  {
   "cell_type": "code",
   "execution_count": 2,
   "metadata": {},
   "outputs": [
    {
     "name": "stdout",
     "output_type": "stream",
     "text": [
      "To load \"cl-bqplot\":\n",
      "  Load 1 ASDF system:\n",
      "    cl-bqplot\n",
      "; Loading \"cl-bqplot\"\n",
      "[package bqplot]...........\n"
     ]
    },
    {
     "data": {
      "text/plain": [
       "(:CL-BQPLOT)"
      ]
     },
     "execution_count": 2,
     "metadata": {},
     "output_type": "execute_result"
    }
   ],
   "source": [
    "(ql:quickload :cl-bqplot)"
   ]
  },
  {
   "cell_type": "code",
   "execution_count": 3,
   "metadata": {},
   "outputs": [
    {
     "data": {
      "text/plain": [
       "*X*"
      ]
     },
     "execution_count": 3,
     "metadata": {},
     "output_type": "execute_result"
    }
   ],
   "source": [
    "(defparameter *x* (vector 1 2 3 4))"
   ]
  },
  {
   "cell_type": "code",
   "execution_count": 4,
   "metadata": {},
   "outputs": [
    {
     "data": {
      "text/plain": [
       "*Y*"
      ]
     },
     "execution_count": 4,
     "metadata": {},
     "output_type": "execute_result"
    }
   ],
   "source": [
    "(defparameter *y* (vector 5 6 7 8))"
   ]
  },
  {
   "cell_type": "code",
   "execution_count": 6,
   "metadata": {},
   "outputs": [
    {
     "name": "stdout",
     "output_type": "stream",
     "text": [
      "\n",
      "\"scatter working\" \n",
      "\"Inside draw-mark\" \n",
      "\"Inside current-figure\" In %get-attribute-dimension\n",
      " trait-name is x\n",
      " mark-type is #<BQPLOT::SCATTER>\n",
      "In %get-attribute-dimension\n",
      " trait-name is y\n",
      " mark-type is #<BQPLOT::SCATTER>\n",
      "In %get-attribute-dimension\n",
      " trait-name is color\n",
      " mark-type is #<BQPLOT::SCATTER>\n",
      "\n",
      "\"In axes\" \n",
      "\"Inside current-figure\" \n",
      "\"In %fetch-axis\" Inside the part where axis is NIL\n",
      "Inside the part were key is t. Key is bqplot.Axis\n",
      " axis-args is ((orientation . vertical) (dimension . y))\n",
      "(list (intern (car axis-args) KEYWORD) (cdr (car axis-args)) (orientation\n",
      "                                                              vertical)\n"
     ]
    },
    {
     "name": "stderr",
     "output_type": "stream",
     "text": [
      "An error occurred of type: SIMPLE-ERROR: \n",
      "  No applicable method for MYJSON:ENCODE-JSON with arguments of types \n",
      " STRING-OUTPUT-STREAM\n",
      " KEYWORD\n",
      " KEYWORD\n",
      " (INTEGER 6 6)\n",
      " KEYWORD\n",
      " BOOLEAN.\n",
      "\n",
      "serious-condition backtrace:\n",
      "backtrace output unavailable.\n",
      "\n"
     ]
    },
    {
     "data": {
      "text/plain": [
       "NIL"
      ]
     },
     "execution_count": 6,
     "metadata": {},
     "output_type": "execute_result"
    }
   ],
   "source": [
    "(describe (bqplot::scatter *x* *y*))"
   ]
  },
  {
   "cell_type": "code",
   "execution_count": 28,
   "metadata": {},
   "outputs": [
    {
     "data": {
      "text/plain": [
       "#(1 2 3)"
      ]
     },
     "execution_count": 28,
     "metadata": {},
     "output_type": "execute_result"
    }
   ],
   "source": [
    "*x*"
   ]
  },
  {
   "cell_type": "code",
   "execution_count": 7,
   "metadata": {},
   "outputs": [
    {
     "data": {
      "text/plain": [
       "#<The TRAITLETS:TRAITLET-CLASS BQPLOT::SCATTER>"
      ]
     },
     "execution_count": 7,
     "metadata": {},
     "output_type": "execute_result"
    }
   ],
   "source": [
    "(find-class 'bqplot::scatter)"
   ]
  },
  {
   "cell_type": "code",
   "execution_count": 43,
   "metadata": {},
   "outputs": [
    {
     "data": {
      "text/plain": [
       "#<BQPLOT>"
      ]
     },
     "execution_count": 43,
     "metadata": {},
     "output_type": "execute_result"
    }
   ],
   "source": [
    "(in-package :bqplot)"
   ]
  },
  {
   "cell_type": "code",
   "execution_count": 6,
   "metadata": {},
   "outputs": [
    {
     "data": {
      "text/plain": [
       "VBOX1"
      ]
     },
     "execution_count": 6,
     "metadata": {},
     "output_type": "execute_result"
    }
   ],
   "source": [
    "(defparameter vbox1 (make-instance 'cljw:vbox :children (vector\n",
    "                                    (make-instance 'cljw:hbox\n",
    "                                                   :children (vector\n",
    "                                                              (make-instance 'cljw:int-text\n",
    "                                                                        :description \"Home Score\")\n",
    "                                                              (make-instance 'cljw:int-text\n",
    "                                                                        :description \"Away Score\")\n",
    "                                                              ))\n",
    "                                    (make-instance 'cljw:hbox\n",
    "                                                   :children (vector\n",
    "                                                              (make-instance 'cljw:button\n",
    "                                                                             :description \"Home +3\"\n",
    "                                                                             :button_style \"success\")\n",
    "                                                              (make-instance 'cljw:button\n",
    "                                                                             :description \"Away +3\"\n",
    "                                                                             :button_style \"danger\")))\n",
    "                                    (make-instance 'cljw:hbox\n",
    "                                                   :children (vector \n",
    "                                                              (make-instance 'cljw:button\n",
    "                                                                             :description \"Home +2\"\n",
    "                                                                             :button_style \"info\")\n",
    "                                                              (make-instance 'cljw:button\n",
    "                                                                             :description \"Away +2\"\n",
    "                                                                             :button_style \"warning\"))))))"
   ]
  },
  {
   "cell_type": "code",
   "execution_count": 1,
   "metadata": {},
   "outputs": [
    {
     "data": {
      "application/vnd.jupyter.widget-view+json": {
       "model_id": "6CC9C77A-BDFC-4CF1-A707-CB43F4A48DCF",
       "version_major": 2,
       "version_minor": 0
      },
      "text/html": [
       "<p>Failed to display Jupyter Widget of type <code>{widget_type}</code>.</p>\n",
       "<p>\n",
       "  If you're reading this message in the Jupyter Notebook or JupyterLab Notebook, it may mean\n",
       "  that the widgets JavaScript is still loading. If this message persists, it\n",
       "  likely means that the widgets JavaScript library is either not installed or\n",
       "  not enabled. See the <a href=\"https://ipywidgets.readthedocs.io/en/stable/user_install.html\">Jupyter\n",
       "  Widgets Documentation</a> for setup instructions.\n",
       "</p>\n",
       "<p>\n",
       "  If you're reading this message in another frontend (for example, a static\n",
       "  rendering on GitHub or <a href=\"https://nbviewer.jupyter.org/\">NBViewer</a>),\n",
       "  it may mean that your frontend doesn't currently support widgets.\n",
       "</p>\n"
      ],
      "text/plain": [
       "A Jupyter Widget"
      ]
     },
     "execution_count": 1,
     "metadata": {},
     "output_type": "execute_result"
    }
   ],
   "source": [
    "(make-instance 'cljw:vbox :children (vector (make-instance 'cljw::int-text)))"
   ]
  },
  {
   "cell_type": "code",
   "execution_count": 2,
   "metadata": {},
   "outputs": [
    {
     "name": "stderr",
     "output_type": "stream",
     "text": [
      "An error occurred of type: UNBOUND-VARIABLE: \n",
      "  The variable VBOX1 is unbound.\n",
      "\n",
      "serious-condition backtrace:\n",
      "backtrace output unavailable.\n",
      "\n"
     ]
    },
    {
     "data": {
      "text/plain": [
       "NIL"
      ]
     },
     "execution_count": 2,
     "metadata": {},
     "output_type": "execute_result"
    }
   ],
   "source": [
    "vbox1"
   ]
  },
  {
   "cell_type": "code",
   "execution_count": 3,
   "metadata": {},
   "outputs": [
    {
     "name": "stderr",
     "output_type": "stream",
     "text": [
      "Reader error: Package error on package \"BQPLOT\" (condition of type PACKAGE-ERROR)\n"
     ]
    },
    {
     "data": {
      "text/plain": [
       "NIL"
      ]
     },
     "execution_count": 3,
     "metadata": {},
     "output_type": "execute_result"
    }
   ],
   "source": [
    "(setf x (vector 1 2 3))\n",
    "(setf y (vector 1 2 3))\n",
    "\n",
    "(setf scale (make-instance 'bqplot::linear-scale :allow-padding nil :max 1.0 :min 0.0))\n",
    "\n",
    "(setf line (make-instance 'bqplot::lines :scales-mark (list (cons \"x\" scale)(cons \"y\" scale)) :x x :y y))\n",
    "\n",
    "(setf axes (vector (make-instance 'bqplot::axis :scale scale :side \"bottom\")\n",
    "                 (make-instance 'bqplot::axis :scale scale :orientation \"vertical\" :side \"left\")))\n",
    "\n",
    "(setf figure (make-instance 'bqplot::figure :title \"Test\" \n",
    "                                :scale-x scale\n",
    "                                :scale-y scale\n",
    "                                :axes-figure axes\n",
    ":interaction (make-instance 'bqplot::pan-zoom :scales-interacts (list (cons \"x\" (list nil))(cons \"y\" (list nil))))\n",
    ":marks line))\n",
    "\n",
    "(setf toolbar (make-instance 'bqplot::toolbar :figure figure))\n",
    "\n",
    "(setf (bqplot::pyplot figure) toolbar)\n",
    "\n",
    "(make-instance 'cljw::vbox :children (vector figure (bqplot::pyplot figure)))"
   ]
  },
  {
   "cell_type": "code",
   "execution_count": 8,
   "metadata": {},
   "outputs": [
    {
     "name": "stdout",
     "output_type": "stream",
     "text": [
      "\n",
      "\n",
      "#<BQPLOT::FIGURE> is an instance of class FIGURE\n",
      "it has the following instance slots\n",
      "%MUTEX:                 #<MUTEX :ANONYMOUS :owner NIL :counter 0 @0x49faa5a9>\n",
      "%WIDGET-CONSTRUCTION-CALLBACK:  #<CL-JUPYTER-WIDGETS::CALLBACK-DISPATCHER>\n",
      "%MODEL-NAME:            FigureModel\n",
      "%MODEL-MODULE:          bqplot\n",
      "%MODEL-MODULE-VERSION:  ^0.3.6\n",
      "%VIEW-NAME:             Figure\n",
      "%VIEW-MODULE:           bqplot\n",
      "%VIEW-MODULE-VERSION:   ^0.3.6\n",
      "%VIEW-COUNT:            NULL\n",
      "%COMM:                  #<CL-JUPYTER-WIDGETS::COMM>\n",
      "%KEY-MAP:               ((%MODEL-NAME . _model_name)\n",
      "                         (%MODEL-MODULE . _model_module)\n",
      "                         (%MODEL-MODULE-VERSION . _model_module_version)\n",
      "                         (%VIEW-NAME . _view_name)\n",
      "                         (%VIEW-MODULE . _view_module)\n",
      "                         (%VIEW-MODULE-VERSION . _view_module_version)\n",
      "                         (%VIEW-COUNT . _view_count)\n",
      "                         (%DOM-CLASSES . _dom_classes) (%LAYOUT . layout)\n",
      "                         (TITLE-FIGURE . title) (AXES-FIGURE . axes)\n",
      "                         (MARKS . marks) (INTERACTION . interaction)\n",
      "                         (SCALE-X . scale_x) (SCALE-Y . scale_y)\n",
      "                         (TITLE-STYLE . title_style)\n",
      "                         (BACKGROUND-STYLE . background_style)\n",
      "                         (LEGEND-STYLE . legend_style)\n",
      "                         (LEGEND-TEXT . legend_text) (LAYOUT . layout)\n",
      "                         (MIN-ASPECT-RATIO . min_aspect_ratio)\n",
      "                         (MAX-ASPECT-RATIO . max_aspect_ratio)\n",
      "                         (FIG-MARGIN . fig_margin) (PADDING-X . padding_x)\n",
      "                         (PADDING-Y . padding_y)\n",
      "                         (LEGEND-LOCATION . legend_location)\n",
      "                         (ANIMATION-DURATION . animation_duration))\n",
      "%PROPERTY-LOCK:         NIL\n",
      "%HOLDING-SYNC:          NIL\n",
      "%STATES-TO-SEND:        Unbound\n",
      "%DISPLAY-CALLBACKS:     #<CL-JUPYTER-WIDGETS::CALLBACK-DISPATCHER>\n",
      "%MSG-CALLBACKS:         #<CL-JUPYTER-WIDGETS::CALLBACK-DISPATCHER>\n",
      "%MODEL-ID:              91911C2C-78B1-4661-BE41-5CF34AA63444\n",
      "%IPYTHON-DISPLAY:       %IPYTHON-DISPLAY-CALLBACK\n",
      "%DOM-CLASSES:           #()\n",
      "%LAYOUT:                #<CL-JUPYTER-WIDGETS::LAYOUT>\n",
      "TITLE-FIGURE:           Test\n",
      "AXES-FIGURE:            #(#<BQPLOT::AXIS> #<BQPLOT::AXIS>)\n",
      "MARKS:                  #<BQPLOT::LINES>\n",
      "INTERACTION:            #<BQPLOT::PAN-ZOOM>\n",
      "SCALE-X:                #<BQPLOT::LINEAR-SCALE>\n",
      "SCALE-Y:                #<BQPLOT::LINEAR-SCALE>\n",
      "TITLE-STYLE:            ((trait . ))\n",
      "BACKGROUND-STYLE:       NIL\n",
      "LEGEND-STYLE:           NIL\n",
      "LEGEND-TEXT:            NIL\n",
      "LAYOUT:                 #<CL-JUPYTER-WIDGETS::LAYOUT>\n",
      "MIN-ASPECT-RATIO:       1.0\n",
      "MAX-ASPECT-RATIO:       6.0\n",
      "FIG-MARGIN:             ((top . 60) (bottom . 60) (left . 60) (right . 60))\n",
      "PADDING-X:              0.0\n",
      "PADDING-Y:              0.025\n",
      "LEGEND-LOCATION:        top-right\n",
      "ANIMATION-DURATION:     0\n",
      "PYPLOT:                 #<BQPLOT::TOOLBAR>\n",
      "it has the following class slots\n",
      "%WIDGETS:               #<HASH-TABLE-EQL :count 0 :total-alist-entries 0 @0x357cefa8> \n",
      "%WIDGET-TYPES:          #<CL-JUPYTER-WIDGETS::WIDGET-REGISTRY>\n"
     ]
    },
    {
     "data": {
      "text/plain": [
       "NIL"
      ]
     },
     "execution_count": 8,
     "metadata": {},
     "output_type": "execute_result"
    }
   ],
   "source": []
  },
  {
   "cell_type": "code",
   "execution_count": 8,
   "metadata": {},
   "outputs": [
    {
     "name": "stderr",
     "output_type": "stream",
     "text": [
      "Reader error: Comma outside of backquote in stream at line: (1) column (0). (condition of type SIMPLE-READER-ERROR)\n"
     ]
    },
    {
     "data": {
      "text/plain": [
       "NIL"
      ]
     },
     "execution_count": 8,
     "metadata": {},
     "output_type": "execute_result"
    }
   ],
   "source": []
  },
  {
   "cell_type": "code",
   "execution_count": null,
   "metadata": {},
   "outputs": [],
   "source": []
  }
 ],
 "metadata": {
  "kernelspec": {
   "display_name": "cando-slow-dev",
   "language": "lisp",
   "name": "cando-slow-dev"
  },
  "language_info": {
   "codemirror_mode": "text/x-common-lisp",
   "mimetype": "text/x-common-lisp",
   "name": "common-lisp",
   "pygments_lexer": "common-lisp",
   "version": "X3J13"
  }
 },
 "nbformat": 4,
 "nbformat_minor": 2
}

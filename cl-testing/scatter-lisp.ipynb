{
 "cells": [
  {
   "cell_type": "code",
   "execution_count": null,
   "metadata": {},
   "outputs": [
    {
     "name": "stdout",
     "output_type": "stream",
     "text": [
      "Swank is already running\n"
     ]
    },
    {
     "data": {
      "text/plain": [
       "NIL"
      ]
     },
     "execution_count": 14,
     "metadata": {},
     "output_type": "execute_result"
    }
   ],
   "source": [
    "(start-swank)"
   ]
  },
  {
   "cell_type": "code",
   "execution_count": 1,
   "metadata": {},
   "outputs": [
    {
     "name": "stdout",
     "output_type": "stream",
     "text": [
      "To load \"cl-bqplot\":\n",
      "  Load 1 ASDF system:\n",
      "    cl-bqplot\n",
      "\n",
      "; Loading \"cl-bqplot\"\n",
      "\n"
     ]
    },
    {
     "data": {
      "text/plain": [
       "(:CL-BQPLOT)"
      ]
     },
     "execution_count": 1,
     "metadata": {},
     "output_type": "execute_result"
    }
   ],
   "source": [
    "(ql:quickload :cl-bqplot)"
   ]
  },
  {
   "cell_type": "code",
   "execution_count": 2,
   "metadata": {},
   "outputs": [
    {
     "data": {
      "text/plain": [
       "*Y*"
      ]
     },
     "execution_count": 2,
     "metadata": {},
     "output_type": "execute_result"
    }
   ],
   "source": [
    "(defparameter *x* (make-array 360 :element-type 'single-float))\n",
    "(defparameter *y* (make-array 360 :element-type 'single-float))"
   ]
  },
  {
   "cell_type": "code",
   "execution_count": 3,
   "metadata": {},
   "outputs": [
    {
     "data": {
      "text/plain": [
       "NIL"
      ]
     },
     "execution_count": 3,
     "metadata": {},
     "output_type": "execute_result"
    }
   ],
   "source": [
    "(loop for i below (length *x*)\n",
    "      for x = (* i 0.0174533) ; deg to rad\n",
    "      do (setf (aref *x* i) (float i 1s0))\n",
    "         (setf (aref *y* i) (sin x)))"
   ]
  },
  {
   "cell_type": "code",
   "execution_count": 4,
   "metadata": {},
   "outputs": [
    {
     "name": "stderr",
     "output_type": "stream",
     "text": [
      "\n",
      "An error occurred of type: UNDEFINED-FUNCTION: \n",
      "  The function (SETF FREDOKUN-UTILITIES:[]) is undefined.\n",
      "\n",
      "serious-condition backtrace:\n",
      "backtrace output unavailable.\n",
      "\n"
     ]
    },
    {
     "data": {
      "text/plain": [
       "NIL"
      ]
     },
     "execution_count": 4,
     "metadata": {},
     "output_type": "execute_result"
    }
   ],
   "source": [
    "(:= *figure* (bqplot::figure))"
   ]
  },
  {
   "cell_type": "code",
   "execution_count": 5,
   "metadata": {},
   "outputs": [
    {
     "name": "stderr",
     "output_type": "stream",
     "text": [
      "\n",
      "An error occurred of type: UNBOUND-VARIABLE: \n",
      "  The variable *FIGURE* is unbound.\n",
      "\n",
      "serious-condition backtrace:\n",
      "backtrace output unavailable.\n",
      "\n"
     ]
    },
    {
     "data": {
      "text/plain": [
       "NIL"
      ]
     },
     "execution_count": 5,
     "metadata": {},
     "output_type": "execute_result"
    }
   ],
   "source": [
    "*figure*"
   ]
  },
  {
   "cell_type": "code",
   "execution_count": 6,
   "metadata": {},
   "outputs": [
    {
     "name": "stderr",
     "output_type": "stream",
     "text": [
      "\n",
      "An error occurred of type: SIMPLE-ERROR: \n",
      "  slot missing in class #<The TRAITLETS:TRAITLET-CLASS BQPLOT::SCATTER>: x\n",
      "\n",
      "serious-condition backtrace:\n",
      "backtrace output unavailable.\n",
      "\n"
     ]
    },
    {
     "data": {
      "text/plain": [
       "NIL"
      ]
     },
     "execution_count": 6,
     "metadata": {},
     "output_type": "execute_result"
    }
   ],
   "source": [
    "(bqplot::scatter *x* *y*)"
   ]
  },
  {
   "cell_type": "code",
   "execution_count": 4,
   "metadata": {},
   "outputs": [
    {
     "data": {
      "text/plain": [
       "PLOT"
      ]
     },
     "execution_count": 4,
     "metadata": {},
     "output_type": "execute_result"
    }
   ],
   "source": [
    "(defun plot (fn &key (xrange (list 0.0 1.0)) (divisions 100))\n",
    "    (let ((xarray (make-array divisions :element-type 'single-float))\n",
    "          (yarray (make-array divisions :element-type 'single-float))\n",
    "          (figure (bqplot::figure)))\n",
    "         (loop for idx below divisions\n",
    "               for x = (+ (* (- (second xrange) (first xrange)) \n",
    "                             (/ (float idx) (float divisions))) \n",
    "                          (first xrange))\n",
    "               do (setf (aref xarray idx) (float x 1s0))\n",
    "                   (setf (aref yarray idx) (float (funcall fn x) 1s0)))\n",
    "         (bqplot::scatter xarray yarray)\n",
    "         figure))"
   ]
  },
  {
   "cell_type": "code",
   "execution_count": 5,
   "metadata": {},
   "outputs": [
    {
     "data": {
      "application/vnd.jupyter.widget-view+json": {
       "model_id": "0AF9433C-FB02-48E5-B422-2690FE4A0347",
       "version_major": 2,
       "version_minor": 0
      },
      "text/plain": [
       "#<BQPLOT::FIGURE>"
      ]
     },
     "execution_count": 5,
     "metadata": {},
     "output_type": "execute_result"
    }
   ],
   "source": [
    "(plot 'cos :xrange (list 0.0 (* 360.0 0.0174533)))"
   ]
  },
  {
   "cell_type": "code",
   "execution_count": 6,
   "metadata": {},
   "outputs": [
    {
     "data": {
      "text/plain": [
       "T"
      ]
     },
     "execution_count": 6,
     "metadata": {},
     "output_type": "execute_result"
    }
   ],
   "source": [
    "(unintern '2pi)"
   ]
  },
  {
   "cell_type": "code",
   "execution_count": 7,
   "metadata": {},
   "outputs": [
    {
     "data": {
      "text/plain": [
       "2PI"
      ]
     },
     "execution_count": 7,
     "metadata": {},
     "output_type": "execute_result"
    }
   ],
   "source": [
    "(defconstant 2pi (* 2 pi))"
   ]
  },
  {
   "cell_type": "code",
   "execution_count": 8,
   "metadata": {},
   "outputs": [
    {
     "data": {
      "application/vnd.jupyter.widget-view+json": {
       "model_id": "2E976D9D-05A6-4256-9287-F8855C28CF82",
       "version_major": 2,
       "version_minor": 0
      },
      "text/plain": [
       "#<BQPLOT::FIGURE>"
      ]
     },
     "execution_count": 8,
     "metadata": {},
     "output_type": "execute_result"
    }
   ],
   "source": [
    "(plot (lambda (x) (* (cos x) x)) :xrange (list 0.0 2pi))"
   ]
  },
  {
   "cell_type": "code",
   "execution_count": 11,
   "metadata": {},
   "outputs": [
    {
     "data": {
      "text/plain": [
       "#(97 98 99 100 101 102 103)"
      ]
     },
     "execution_count": 11,
     "metadata": {},
     "output_type": "execute_result"
    }
   ],
   "source": [
    "(core:base-string-to-octets \"abcdefg\")"
   ]
  },
  {
   "cell_type": "code",
   "execution_count": 3,
   "metadata": {},
   "outputs": [
    {
     "name": "stdout",
     "output_type": "stream",
     "text": [
      "BABEL-ENCODINGS:*DEFAULT-CHARACTER-ENCODING*  has value\n"
     ]
    },
    {
     "data": {
      "text/plain": [
       "NIL"
      ]
     },
     "execution_count": 3,
     "metadata": {},
     "output_type": "execute_result"
    }
   ],
   "source": [
    "(apropos \"default-character-encoding\")"
   ]
  },
  {
   "cell_type": "code",
   "execution_count": 12,
   "metadata": {},
   "outputs": [
    {
     "data": {
      "application/vnd.jupyter.widget-view+json": {
       "model_id": "98AA545D-0109-4C05-95CE-4F7B00E053CB",
       "version_major": 2,
       "version_minor": 0
      },
      "text/plain": [
       "#<NGLV:NGLWIDGET>"
      ]
     },
     "execution_count": 12,
     "metadata": {},
     "output_type": "execute_result"
    }
   ],
   "source": [
    "(nglv:show-structure-file \"/tmp/ribo.mol2\")"
   ]
  },
  {
   "cell_type": "code",
   "execution_count": 9,
   "metadata": {},
   "outputs": [
    {
     "data": {
      "application/vnd.jupyter.widget-view+json": {
       "model_id": "603668DD-B6A9-4131-8E50-995F653AF320",
       "version_major": 2,
       "version_minor": 0
      },
      "text/plain": [
       "#<NGLV:NGLWIDGET>"
      ]
     },
     "execution_count": 9,
     "metadata": {},
     "output_type": "execute_result"
    }
   ],
   "source": [
    "(nglv:show-pdbid \"4hb1\")"
   ]
  },
  {
   "cell_type": "code",
   "execution_count": 13,
   "metadata": {},
   "outputs": [
    {
     "data": {
      "text/plain": [
       "40171"
      ]
     },
     "execution_count": 13,
     "metadata": {},
     "output_type": "execute_result"
    }
   ],
   "source": [
    "(core:getpid)"
   ]
  },
  {
   "cell_type": "code",
   "execution_count": null,
   "metadata": {},
   "outputs": [],
   "source": []
  }
 ],
 "metadata": {
  "kernelspec": {
   "display_name": "clasp",
   "language": "lisp",
   "name": "clasp"
  },
  "language_info": {
   "codemirror_mode": "text/x-common-lisp",
   "file_extension": ".lisp",
   "mimetype": "text/x-common-lisp",
   "name": "common-lisp",
   "pygments_lexer": "common-lisp",
   "version": "X3J13"
  }
 },
 "nbformat": 4,
 "nbformat_minor": 2
}

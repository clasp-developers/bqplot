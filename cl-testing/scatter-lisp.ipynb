{
 "cells": [
  {
   "cell_type": "code",
   "execution_count": 8,
   "metadata": {},
   "outputs": [
    {
     "name": "stdout",
     "output_type": "stream",
     "text": [
      "Swank is already running\n"
     ]
    },
    {
     "data": {
      "text/plain": [
       "NIL"
      ]
     },
     "execution_count": 8,
     "metadata": {},
     "output_type": "execute_result"
    }
   ],
   "source": [
    "(start-swank)"
   ]
  },
  {
   "cell_type": "code",
   "execution_count": 2,
   "metadata": {},
   "outputs": [
    {
     "name": "stdout",
     "output_type": "stream",
     "text": [
      "To load \"cl-bqplot\":\n",
      "  Load 1 ASDF system:\n",
      "    cl-bqplot\n",
      "\n",
      "; Loading \"cl-bqplot\"\n",
      "[package bqplot]...........\n"
     ]
    },
    {
     "data": {
      "text/plain": [
       "(:CL-BQPLOT)"
      ]
     },
     "execution_count": 2,
     "metadata": {},
     "output_type": "execute_result"
    }
   ],
   "source": [
    "(ql:quickload :cl-bqplot)"
   ]
  },
  {
   "cell_type": "code",
   "execution_count": 3,
   "metadata": {},
   "outputs": [
    {
     "data": {
      "text/plain": [
       "*Y*"
      ]
     },
     "execution_count": 3,
     "metadata": {},
     "output_type": "execute_result"
    }
   ],
   "source": [
    "(defparameter *x* (vector 9121 9122 9123))\n",
    "(defparameter *y* (vector 8541 8542 8543))"
   ]
  },
  {
   "cell_type": "code",
   "execution_count": 17,
   "metadata": {},
   "outputs": [
    {
     "data": {
      "text/plain": [
       "*Y*"
      ]
     },
     "execution_count": 17,
     "metadata": {},
     "output_type": "execute_result"
    }
   ],
   "source": [
    "(defparameter *x* (list (cons \"type\" \"float\")\n",
    "                        (cons \"values\" #( 9121.0 9122.0 9123.0 9124.0))))\n",
    "(defparameter *y* (list (cons \"type\" \"float\")\n",
    "                        (cons \"values\" #( 8541.0 8542.0 8543.0 8542.0))))"
   ]
  },
  {
   "cell_type": "code",
   "execution_count": 18,
   "metadata": {},
   "outputs": [
    {
     "name": "stdout",
     "output_type": "stream",
     "text": [
      "\n",
      "\"Entered figure function\" "
     ]
    },
    {
     "data": {
      "text/plain": [
       "*FIGURE*"
      ]
     },
     "execution_count": 18,
     "metadata": {},
     "output_type": "execute_result"
    }
   ],
   "source": [
    "(:= *figure* (bqplot::figure))"
   ]
  },
  {
   "cell_type": "code",
   "execution_count": 19,
   "metadata": {},
   "outputs": [
    {
     "data": {
      "application/vnd.jupyter.widget-view+json": {
       "model_id": "2BC2F2BE-0225-4871-891F-044033190502",
       "version_major": 2,
       "version_minor": 0
      },
      "text/plain": [
       "#<BQPLOT::FIGURE>"
      ]
     },
     "execution_count": 19,
     "metadata": {},
     "output_type": "execute_result"
    }
   ],
   "source": [
    "*figure*"
   ]
  },
  {
   "cell_type": "code",
   "execution_count": 20,
   "metadata": {},
   "outputs": [
    {
     "name": "stdout",
     "output_type": "stream",
     "text": [
      "Inside axes.\n",
      "kwargs is NIL\n",
      "mark is #<BQPLOT::SCATTER>\n",
      "options is NIL\n",
      "About to enter loop scales is ((\"y\" . #<BQPLOT:LINEAR-SCALE>) (\"x\" . #<BQPLOT:LINEAR-SCALE>))\n",
      "About to fig-axes  (axes-figure fig) -> #()\n",
      "fig-axes -> NIL\n",
      "\n",
      "\"In %fetch-axis\" inside %fetch-axis\n",
      " fig is #<BQPLOT::FIGURE>\n",
      " dimension is \"y\"\n",
      " scale is #<BQPLOT:LINEAR-SCALE>\n",
      "axis-registry is NIL\n",
      "dimension-data -> NIL\n",
      "dimension-scales -> NIL\n",
      "After first setf in loop: \n",
      " scale-metadata is ((\"orientation\" . \"vertical\") (\"dimension\" . \"y\"))\n",
      " dimension is \"y\"\n",
      " axis-args is ((\"orientation\" . \"vertical\") (\"dimension\" . \"y\"))\n",
      "At if axis. Axis is NIL\n",
      "\n",
      "\"In %update-fig-axis-registry\" In %update-fig-axis-registry.\n",
      " fig is #<BQPLOT::FIGURE>\n",
      " dimension is y\n",
      " scale is #<BQPLOT:LINEAR-SCALE>\n",
      " axis is #<BQPLOT::AXIS>\n",
      "axis-registry is NIL\n",
      "final axis-registry is ((\"y\" . #(((\"scale\" . #<BQPLOT:LINEAR-SCALE>) (\"axis\" . #<BQPLOT::AXIS>)))))\n",
      "\n",
      "\"In %fetch-axis\" inside %fetch-axis\n",
      " fig is #<BQPLOT::FIGURE>\n",
      " dimension is \"x\"\n",
      " scale is #<BQPLOT:LINEAR-SCALE>\n",
      "axis-registry is ((\"y\" . #(((\"scale\" . #<BQPLOT:LINEAR-SCALE>) (\"axis\" . #<BQPLOT::AXIS>)))))\n",
      "dimension-data -> NIL\n",
      "dimension-scales -> NIL\n",
      "After first setf in loop: \n",
      " scale-metadata is ((\"orientation\" . \"horizontal\") (\"dimension\" . \"x\"))\n",
      " dimension is \"x\"\n",
      " axis-args is ((\"orientation\" . \"horizontal\") (\"dimension\" . \"x\"))\n",
      "At if axis. Axis is NIL\n",
      "\n",
      "\"In %update-fig-axis-registry\" In %update-fig-axis-registry.\n",
      " fig is #<BQPLOT::FIGURE>\n",
      " dimension is x\n",
      " scale is #<BQPLOT:LINEAR-SCALE>\n",
      " axis is #<BQPLOT::AXIS>\n",
      "axis-registry is ((\"y\" . #(((\"scale\" . #<BQPLOT:LINEAR-SCALE>) (\"axis\" . #<BQPLOT::AXIS>)))))\n",
      "final axis-registry is ((\"x\" . #(((\"scale\" . #<BQPLOT:LINEAR-SCALE>) (\"axis\" . #<BQPLOT::AXIS>))))\n",
      " (\"y\" . #(((\"scale\" . #<BQPLOT:LINEAR-SCALE>) (\"axis\" . #<BQPLOT::AXIS>)))))\n",
      "end of axes axes -> NIL\n"
     ]
    },
    {
     "data": {
      "text/plain": [
       "*MARKS*"
      ]
     },
     "execution_count": 20,
     "metadata": {},
     "output_type": "execute_result"
    }
   ],
   "source": [
    "(:= *marks* (bqplot::scatter *x* *y*))"
   ]
  },
  {
   "cell_type": "code",
   "execution_count": null,
   "metadata": {},
   "outputs": [],
   "source": []
  }
 ],
 "metadata": {
  "kernelspec": {
   "display_name": "clasp",
   "language": "lisp",
   "name": "clasp"
  },
  "language_info": {
   "codemirror_mode": "text/x-common-lisp",
   "file_extension": ".lisp",
   "mimetype": "text/x-common-lisp",
   "name": "common-lisp",
   "pygments_lexer": "common-lisp",
   "version": "X3J13"
  }
 },
 "nbformat": 4,
 "nbformat_minor": 2
}

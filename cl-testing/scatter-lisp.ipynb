{
 "cells": [
  {
   "cell_type": "code",
   "execution_count": 5,
   "metadata": {},
   "outputs": [
    {
     "name": "stderr",
     "output_type": "stream",
     "text": [
      "\n",
      ";; Swank started at port: 4005.\n"
     ]
    },
    {
     "data": {
      "text/plain": [
       "T"
      ]
     },
     "execution_count": 5,
     "metadata": {},
     "output_type": "execute_result"
    }
   ],
   "source": [
    "(start-swank)"
   ]
  },
  {
   "cell_type": "code",
   "execution_count": 7,
   "metadata": {},
   "outputs": [
    {
     "data": {
      "application/vnd.jupyter.widget-view+json": {
       "model_id": "62E3A5F6-55E5-4B13-87C1-7D768434EB02",
       "version_major": 2,
       "version_minor": 0
      },
      "text/plain": [
       "#<CL-IPYWIDGETS::LAYOUT>"
      ]
     },
     "execution_count": 7,
     "metadata": {},
     "output_type": "execute_result"
    }
   ],
   "source": [
    "(make-instance 'cljw::layout :min-width (cljw:unicode \"125px\"))"
   ]
  },
  {
   "cell_type": "code",
   "execution_count": 1,
   "metadata": {},
   "outputs": [
    {
     "name": "stdout",
     "output_type": "stream",
     "text": [
      "To load \"cl-bqplot\":\n",
      "  Load 1 ASDF system:\n",
      "    cl-bqplot\n",
      "\n",
      "; Loading \"cl-bqplot\"\n",
      ".........\n"
     ]
    },
    {
     "data": {
      "text/plain": [
       "(:CL-BQPLOT)"
      ]
     },
     "execution_count": 1,
     "metadata": {},
     "output_type": "execute_result"
    }
   ],
   "source": [
    "(ql:quickload :cl-bqplot)"
   ]
  },
  {
   "cell_type": "code",
   "execution_count": 2,
   "metadata": {},
   "outputs": [
    {
     "data": {
      "text/plain": [
       "*Y*"
      ]
     },
     "execution_count": 2,
     "metadata": {},
     "output_type": "execute_result"
    }
   ],
   "source": [
    "(defparameter *x* (vector 9121 9122 9123))\n",
    "(defparameter *y* (vector 8541 8542 8543))"
   ]
  },
  {
   "cell_type": "code",
   "execution_count": 3,
   "metadata": {},
   "outputs": [
    {
     "data": {
      "application/vnd.jupyter.widget-view+json": {
       "model_id": "B1511697-9E76-411D-BFA4-6877E5B53795",
       "version_major": 2,
       "version_minor": 0
      },
      "text/plain": [
       "#<BQPLOT::FIGURE>"
      ]
     },
     "execution_count": 3,
     "metadata": {},
     "output_type": "execute_result"
    }
   ],
   "source": [
    "(make-instance 'bqplot::figure)"
   ]
  },
  {
   "cell_type": "code",
   "execution_count": 9,
   "metadata": {},
   "outputs": [
    {
     "name": "stdout",
     "output_type": "stream",
     "text": [
      "\n",
      "\"scatter working\" \n",
      "\"Inside draw-mark\" \n",
      "\"Inside current-figure\" Got figure\n",
      "About to remf\n",
      "Going into first loop\n",
      "dict -> ((\"x\" (\"orientation\" . \"horizontal\") (\"dimension\" . \"x\"))\n",
      " (\"y\" (\"orientation\" . \"vertical\") (\"dimension\" . \"y\"))\n",
      " (\"color\" (\"dimension\" . \"color\")) (\"size\" (\"dimension\" . \"size\"))\n",
      " (\"opacity\" (\"dimension\" . \"opacity\")) (\"rotation\" (\"dimension\" . \"rotation\"))\n",
      " (\"skew\" (\"dimension\" . \"skew\")))\n",
      "entry -> (\"x\" (\"orientation\" . \"horizontal\") (\"dimension\" . \"x\"))\n",
      "Top of loop name -> \"x\"\n",
      "entry -> (\"y\" (\"orientation\" . \"vertical\") (\"dimension\" . \"y\"))\n",
      "Top of loop name -> \"y\"\n",
      "entry -> (\"color\" (\"dimension\" . \"color\"))\n",
      "Top of loop name -> \"color\"\n",
      "entry -> (\"size\" (\"dimension\" . \"size\"))\n",
      "Top of loop name -> \"size\"\n",
      "entry -> (\"opacity\" (\"dimension\" . \"opacity\"))\n",
      "Top of loop name -> \"opacity\"\n",
      "entry -> (\"rotation\" (\"dimension\" . \"rotation\"))\n",
      "Top of loop name -> \"rotation\"\n",
      "entry -> (\"skew\" (\"dimension\" . \"skew\"))\n",
      "Top of loop name -> \"skew\"\n"
     ]
    },
    {
     "data": {
      "application/vnd.jupyter.widget-view+json": {
       "model_id": "A1925EF2-F97B-40F6-B98F-FDDB74848EFC",
       "version_major": 2,
       "version_minor": 0
      },
      "text/plain": [
       "#<BQPLOT::SCATTER>"
      ]
     },
     "execution_count": 9,
     "metadata": {},
     "output_type": "execute_result"
    }
   ],
   "source": [
    "(bqplot::scatter *x* *y*)"
   ]
  },
  {
   "cell_type": "code",
   "execution_count": 5,
   "metadata": {},
   "outputs": [
    {
     "data": {
      "text/plain": [
       "((\"figure\" . #<BQPLOT::FIGURE>) (\"figure_registry\")\n",
       " (\"scales\" (\"y\" . #<BQPLOT::LINEAR-SCALE>) (\"x\" . #<BQPLOT::LINEAR-SCALE>))\n",
       " (\"scale_registry\") (\"last_mark\" . #<BQPLOT::SCATTER>) (\"current_key\"))"
      ]
     },
     "execution_count": 5,
     "metadata": {},
     "output_type": "execute_result"
    }
   ],
   "source": [
    "bqplot::%context"
   ]
  },
  {
   "cell_type": "code",
   "execution_count": 6,
   "metadata": {},
   "outputs": [
    {
     "name": "stdout",
     "output_type": "stream",
     "text": [
      "\n",
      "\n",
      "#<BQPLOT::FIGURE> is an instance of class FIGURE\n",
      "it has the following instance slots\n",
      "%MUTEX:                 #<MUTEX :ANONYMOUS :owner NIL :counter 0 @0x182b52a9>\n",
      "%WIDGET-CONSTRUCTION-CALLBACK:  #<CL-JUPYTER-WIDGETS::CALLBACK-DISPATCHER>\n",
      "%MODEL-NAME:            FigureModel\n",
      "%MODEL-MODULE:          bqplot\n",
      "%MODEL-MODULE-VERSION:  ^0.3.6\n",
      "%VIEW-NAME:             Figure\n",
      "%VIEW-MODULE:           bqplot\n",
      "%VIEW-MODULE-VERSION:   ^0.3.6\n",
      "%VIEW-COUNT:            NULL\n",
      "%COMM:                  #<CL-JUPYTER-WIDGETS::COMM>\n",
      "%KEY-MAP:               ((%MODEL-NAME . _model_name)\n",
      "                         (%MODEL-MODULE . _model_module)\n",
      "                         (%MODEL-MODULE-VERSION . _model_module_version)\n",
      "                         (%VIEW-NAME . _view_name)\n",
      "                         (%VIEW-MODULE . _view_module)\n",
      "                         (%VIEW-MODULE-VERSION . _view_module_version)\n",
      "                         (%VIEW-COUNT . _view_count)\n",
      "                         (%DOM-CLASSES . _dom_classes) (%LAYOUT . layout)\n",
      "                         (TITLE-FIGURE . title) (AXES-FIGURE . axes)\n",
      "                         (MARKS . marks) (INTERACTION . interaction)\n",
      "                         (SCALE-X . scale_x) (SCALE-Y . scale_y)\n",
      "                         (TITLE-STYLE . title_style)\n",
      "                         (BACKGROUND-STYLE . background_style)\n",
      "                         (LEGEND-STYLE . legend_style)\n",
      "                         (LEGEND-TEXT . legend_text) (LAYOUT . layout)\n",
      "                         (MIN-ASPECT-RATIO . min_aspect_ratio)\n",
      "                         (MAX-ASPECT-RATIO . max_aspect_ratio)\n",
      "                         (FIG-MARGIN . fig_margin) (PADDING-X . padding_x)\n",
      "                         (PADDING-Y . padding_y)\n",
      "                         (LEGEND-LOCATION . legend_location)\n",
      "                         (ANIMATION-DURATION . animation_duration))\n",
      "%PROPERTY-LOCK:         NIL\n",
      "%HOLDING-SYNC:          NIL\n",
      "%STATES-TO-SEND:        Unbound\n",
      "%DISPLAY-CALLBACKS:     #<CL-JUPYTER-WIDGETS::CALLBACK-DISPATCHER>\n",
      "%MSG-CALLBACKS:         #<CL-JUPYTER-WIDGETS::CALLBACK-DISPATCHER>\n",
      "%MODEL-ID:              B4399847-8DC7-4044-BF4D-1E9CA790D1EA\n",
      "%IPYTHON-DISPLAY:       %IPYTHON-DISPLAY-CALLBACK\n",
      "%DOM-CLASSES:           #()\n",
      "%LAYOUT:                #<CL-JUPYTER-WIDGETS::LAYOUT>\n",
      "TITLE-FIGURE:           \n",
      "AXES-FIGURE:            #()\n",
      "AXIS-REGISTRY:          NIL\n",
      "MARKS:                  #(#<BQPLOT::SCATTER>)\n",
      "INTERACTION:            NULL\n",
      "SCALE-X:                #<BQPLOT::LINEAR-SCALE>\n",
      "SCALE-Y:                #<BQPLOT::LINEAR-SCALE>\n",
      "TITLE-STYLE:            NIL\n",
      "BACKGROUND-STYLE:       NIL\n",
      "LEGEND-STYLE:           NIL\n",
      "LEGEND-TEXT:            NIL\n",
      "LAYOUT:                 #<CL-JUPYTER-WIDGETS::LAYOUT>\n",
      "MIN-ASPECT-RATIO:       1.0\n",
      "MAX-ASPECT-RATIO:       6.0\n",
      "FIG-MARGIN:             ((top . 60) (bottom . 60) (left . 60) (right . 60))\n",
      "PADDING-X:              0.0\n",
      "PADDING-Y:              0.025\n",
      "LEGEND-LOCATION:        top-right\n",
      "ANIMATION-DURATION:     0\n",
      "PYPLOT:                 NIL\n",
      "it has the following class slots\n",
      "%WIDGETS:               #<HASH-TABLE-EQL :count 0 :total-alist-entries 0 @0x14bb1dc8> \n",
      "%WIDGET-TYPES:          #<CL-JUPYTER-WIDGETS::WIDGET-REGISTRY>\n"
     ]
    },
    {
     "data": {
      "text/plain": [
       "NIL"
      ]
     },
     "execution_count": 6,
     "metadata": {},
     "output_type": "execute_result"
    }
   ],
   "source": [
    "(describe (cdr (assoc \"figure\" bqplot::%context :test #'string=)))"
   ]
  },
  {
   "cell_type": "code",
   "execution_count": 11,
   "metadata": {},
   "outputs": [
    {
     "data": {
      "text/plain": [
       "((\"figure\" . #<BQPLOT::FIGURE>) (\"figure_registry\")\n",
       " (\"scales\" (\"y\" . #<BQPLOT::LINEAR-SCALE>) (\"x\" . #<BQPLOT::LINEAR-SCALE>))\n",
       " (\"scale_registry\") (\"last_mark\" . #<BQPLOT::SCATTER>) (\"current_key\"))"
      ]
     },
     "execution_count": 11,
     "metadata": {},
     "output_type": "execute_result"
    }
   ],
   "source": [
    "bqplot::%context"
   ]
  },
  {
   "cell_type": "code",
   "execution_count": 14,
   "metadata": {},
   "outputs": [
    {
     "name": "stdout",
     "output_type": "stream",
     "text": [
      "FREDOKUN-UTILITIES:[]  Function\n",
      "[]\n",
      "FREDOKUN-UTILITIES:[]-CONTAINS  Function\n"
     ]
    },
    {
     "data": {
      "text/plain": [
       "NIL"
      ]
     },
     "execution_count": 14,
     "metadata": {},
     "output_type": "execute_result"
    }
   ],
   "source": [
    "(apropos \"[]\")"
   ]
  },
  {
   "cell_type": "code",
   "execution_count": 15,
   "metadata": {},
   "outputs": [
    {
     "data": {
      "application/vnd.jupyter.widget-view+json": {
       "model_id": "A4F4DADB-1849-485E-B5DE-C4410F11C0B5",
       "version_major": 2,
       "version_minor": 0
      },
      "text/html": [
       "<p>Failed to display Jupyter Widget of type <code>{widget_type}</code>.</p>\n",
       "<p>\n",
       "  If you're reading this message in the Jupyter Notebook or JupyterLab Notebook, it may mean\n",
       "  that the widgets JavaScript is still loading. If this message persists, it\n",
       "  likely means that the widgets JavaScript library is either not installed or\n",
       "  not enabled. See the <a href=\"https://ipywidgets.readthedocs.io/en/stable/user_install.html\">Jupyter\n",
       "  Widgets Documentation</a> for setup instructions.\n",
       "</p>\n",
       "<p>\n",
       "  If you're reading this message in another frontend (for example, a static\n",
       "  rendering on GitHub or <a href=\"https://nbviewer.jupyter.org/\">NBViewer</a>),\n",
       "  it may mean that your frontend doesn't currently support widgets.\n",
       "</p>\n"
      ],
      "text/plain": [
       "A Jupyter Widget"
      ]
     },
     "execution_count": 15,
     "metadata": {},
     "output_type": "execute_result"
    }
   ],
   "source": [
    "(fredokun-utilities:[] bqplot::%context \"figure\")"
   ]
  },
  {
   "cell_type": "code",
   "execution_count": 16,
   "metadata": {},
   "outputs": [
    {
     "data": {
      "application/vnd.jupyter.widget-view+json": {
       "model_id": "A4F4DADB-1849-485E-B5DE-C4410F11C0B5",
       "version_major": 2,
       "version_minor": 0
      },
      "text/html": [
       "<p>Failed to display Jupyter Widget of type <code>{widget_type}</code>.</p>\n",
       "<p>\n",
       "  If you're reading this message in the Jupyter Notebook or JupyterLab Notebook, it may mean\n",
       "  that the widgets JavaScript is still loading. If this message persists, it\n",
       "  likely means that the widgets JavaScript library is either not installed or\n",
       "  not enabled. See the <a href=\"https://ipywidgets.readthedocs.io/en/stable/user_install.html\">Jupyter\n",
       "  Widgets Documentation</a> for setup instructions.\n",
       "</p>\n",
       "<p>\n",
       "  If you're reading this message in another frontend (for example, a static\n",
       "  rendering on GitHub or <a href=\"https://nbviewer.jupyter.org/\">NBViewer</a>),\n",
       "  it may mean that your frontend doesn't currently support widgets.\n",
       "</p>\n"
      ],
      "text/plain": [
       "A Jupyter Widget"
      ]
     },
     "execution_count": 16,
     "metadata": {},
     "output_type": "execute_result"
    }
   ],
   "source": [
    "(cdr (assoc \"figure\" bqplot::%context :test #'string=))"
   ]
  },
  {
   "cell_type": "code",
   "execution_count": 7,
   "metadata": {},
   "outputs": [
    {
     "data": {
      "application/vnd.jupyter.widget-view+json": {
       "model_id": "FB48EEFB-FBD7-4331-BD87-2EE9797D5A0B",
       "version_major": 2,
       "version_minor": 0
      },
      "text/html": [
       "<p>Failed to display Jupyter Widget of type <code>{widget_type}</code>.</p>\n",
       "<p>\n",
       "  If you're reading this message in the Jupyter Notebook or JupyterLab Notebook, it may mean\n",
       "  that the widgets JavaScript is still loading. If this message persists, it\n",
       "  likely means that the widgets JavaScript library is either not installed or\n",
       "  not enabled. See the <a href=\"https://ipywidgets.readthedocs.io/en/stable/user_install.html\">Jupyter\n",
       "  Widgets Documentation</a> for setup instructions.\n",
       "</p>\n",
       "<p>\n",
       "  If you're reading this message in another frontend (for example, a static\n",
       "  rendering on GitHub or <a href=\"https://nbviewer.jupyter.org/\">NBViewer</a>),\n",
       "  it may mean that your frontend doesn't currently support widgets.\n",
       "</p>\n"
      ],
      "text/plain": [
       "A Jupyter Widget"
      ]
     },
     "execution_count": 7,
     "metadata": {},
     "output_type": "execute_result"
    }
   ],
   "source": [
    "(make-instance 'cljw::int-slider)"
   ]
  },
  {
   "cell_type": "code",
   "execution_count": 7,
   "metadata": {},
   "outputs": [
    {
     "name": "stdout",
     "output_type": "stream",
     "text": [
      "keys -> (CL-IPYWIDGETS::%MODEL-NAME CL-IPYWIDGETS::%MODEL-MODULE\n",
      " CL-IPYWIDGETS::%MODEL-MODULE-VERSION CL-IPYWIDGETS::%VIEW-NAME\n",
      " CL-IPYWIDGETS::%VIEW-MODULE CL-IPYWIDGETS::%VIEW-MODULE-VERSION\n",
      " CL-IPYWIDGETS::%VIEW-COUNT BQPLOT::SCALES-MARK BQPLOT::PRESERVE-DOMAIN\n",
      " BQPLOT::DISPLAY-LEGEND BQPLOT::LABELS-MARK BQPLOT::APPLY-CLIP BQPLOT::VISIBLE\n",
      " BQPLOT::SELECTED-STYLE BQPLOT::UNSELECTED-STYLE BQPLOT::SELECTED\n",
      " BQPLOT::ENABLE-HOVER BQPLOT::TOOLTIP BQPLOT::TOOLTIP-STYLE\n",
      " BQPLOT::INTERACTIONS BQPLOT::TOOLTIP-LOCATION BQPLOT::X BQPLOT::Y\n",
      " CL-IPYWIDGETS:COLOR BQPLOT::OPACITY BQPLOT::SIZE BQPLOT::ROTATION\n",
      " BQPLOT::DEFAULT-OPACITIES BQPLOT::HOVERED-STYLE BQPLOT::UNHOVERED-STYLE\n",
      " BQPLOT::HOVERED-POINT BQPLOT::ENABLE-MOVE BQPLOT::ENABLE-DELETE\n",
      " BQPLOT::RESTRICT-X BQPLOT::RESTRICT-Y BQPLOT::UPDATE-ON-MOVE BQPLOT::SKEW\n",
      " BQPLOT::MARKER BQPLOT::COLORS BQPLOT::STROKE BQPLOT::STROKE-WIDTH\n",
      " BQPLOT::DEFAULT-SKEW BQPLOT::DEFAULT-SIZE BQPLOT::NAMES BQPLOT::DISPLAY-NAMES\n",
      " BQPLOT::FILL-MARKS BQPLOT::DRAG-COLOR BQPLOT::DRAG-SIZE BQPLOT::NAMES-UNIQUE)\n"
     ]
    },
    {
     "data": {
      "text/plain": [
       "*W*"
      ]
     },
     "execution_count": 7,
     "metadata": {},
     "output_type": "execute_result"
    }
   ],
   "source": [
    "(defparameter *w* (make-instance 'bqplot::scatter))"
   ]
  },
  {
   "cell_type": "code",
   "execution_count": 8,
   "metadata": {},
   "outputs": [
    {
     "data": {
      "text/plain": [
       "((CL-IPYWIDGETS::%MODEL-NAME . \"_model_name\")\n",
       " (CL-IPYWIDGETS::%MODEL-MODULE . \"_model_module\")\n",
       " (CL-IPYWIDGETS::%MODEL-MODULE-VERSION . \"_model_module_version\")\n",
       " (CL-IPYWIDGETS::%VIEW-NAME . \"_view_name\")\n",
       " (CL-IPYWIDGETS::%VIEW-MODULE . \"_view_module\")\n",
       " (CL-IPYWIDGETS::%VIEW-MODULE-VERSION . \"_view_module_version\")\n",
       " (CL-IPYWIDGETS::%VIEW-COUNT . \"_view_count\") (BQPLOT::SCALES-MARK . \"scales\")\n",
       " (BQPLOT::PRESERVE-DOMAIN . \"preserve_domain\")\n",
       " (BQPLOT::DISPLAY-LEGEND . \"display_legend\") (BQPLOT::LABELS-MARK . \"labels\")\n",
       " (BQPLOT::APPLY-CLIP . \"apply_clip\") (BQPLOT::VISIBLE . \"visible\")\n",
       " (BQPLOT::SELECTED-STYLE . \"selected_style\")\n",
       " (BQPLOT::UNSELECTED-STYLE . \"unselected_style\")\n",
       " (BQPLOT::SELECTED . \"selected\") (BQPLOT::ENABLE-HOVER . \"enable_hover\")\n",
       " (BQPLOT::TOOLTIP . \"tooltip\") (BQPLOT::TOOLTIP-STYLE . \"tooltip_style\")\n",
       " (BQPLOT::INTERACTIONS . \"interactions\")\n",
       " (BQPLOT::TOOLTIP-LOCATION . \"tooltip_location\") (BQPLOT::X . \"x\")\n",
       " (BQPLOT::Y . \"y\") (CL-IPYWIDGETS:COLOR . \"color\")\n",
       " (BQPLOT::OPACITY . \"opacity\") (BQPLOT::SIZE . \"size\")\n",
       " (BQPLOT::ROTATION . \"rotation\")\n",
       " (BQPLOT::DEFAULT-OPACITIES . \"default_opacities\")\n",
       " (BQPLOT::HOVERED-STYLE . \"hovered_style\")\n",
       " (BQPLOT::UNHOVERED-STYLE . \"unhovered_style\")\n",
       " (BQPLOT::HOVERED-POINT . \"hovered_point\")\n",
       " (BQPLOT::ENABLE-MOVE . \"enable_move\")\n",
       " (BQPLOT::ENABLE-DELETE . \"enable_delete\") (BQPLOT::RESTRICT-X . \"restrict_x\")\n",
       " (BQPLOT::RESTRICT-Y . \"restrict_y\")\n",
       " (BQPLOT::UPDATE-ON-MOVE . \"update_on_move\") (BQPLOT::SKEW . \"skew\")\n",
       " (BQPLOT::MARKER . \"marker\") (BQPLOT::COLORS . \"colors\")\n",
       " (BQPLOT::STROKE . \"stroke\") (BQPLOT::STROKE-WIDTH . \"stroke_width\")\n",
       " (BQPLOT::DEFAULT-SKEW . \"default_skew\")\n",
       " (BQPLOT::DEFAULT-SIZE . \"default_size\") (BQPLOT::NAMES . \"names\")\n",
       " (BQPLOT::DISPLAY-NAMES . \"display_names\") (BQPLOT::FILL-MARKS . \"fill\")\n",
       " (BQPLOT::DRAG-COLOR . \"drag_color\") (BQPLOT::DRAG-SIZE . \"drag_size\")\n",
       " (BQPLOT::NAMES-UNIQUE . \"names_unique\"))"
      ]
     },
     "execution_count": 8,
     "metadata": {},
     "output_type": "execute_result"
    }
   ],
   "source": [
    "(cljw::get-key-map *w*)"
   ]
  },
  {
   "cell_type": "code",
   "execution_count": null,
   "metadata": {},
   "outputs": [],
   "source": []
  }
 ],
 "metadata": {
  "kernelspec": {
   "display_name": "clasp",
   "language": "lisp",
   "name": "clasp"
  },
  "language_info": {
   "codemirror_mode": "text/x-common-lisp",
   "file_extension": ".lisp",
   "mimetype": "text/x-common-lisp",
   "name": "common-lisp",
   "pygments_lexer": "common-lisp",
   "version": "X3J13"
  }
 },
 "nbformat": 4,
 "nbformat_minor": 2
}

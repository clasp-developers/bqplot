{
 "cells": [
  {
   "cell_type": "code",
   "execution_count": 1,
   "metadata": {},
   "outputs": [
    {
     "name": "stderr",
     "output_type": "stream",
     "text": [
      "An error occurred of type: PACKAGE-ERROR: \n",
      "  Package error on package \"CL-IPYWIDGETS\"\n",
      "\n",
      "serious-condition backtrace:\n",
      "backtrace output unavailable.\n",
      "\n"
     ]
    },
    {
     "data": {
      "text/plain": [
       "NIL"
      ]
     },
     "execution_count": 1,
     "metadata": {},
     "output_type": "execute_result"
    }
   ],
   "source": [
    "(start-swank)"
   ]
  },
  {
   "cell_type": "code",
   "execution_count": 2,
   "metadata": {},
   "outputs": [
    {
     "name": "stdout",
     "output_type": "stream",
     "text": [
      "To load \"cl-bqplot\":\n",
      "  Load 1 ASDF system:\n",
      "    cl-bqplot\n",
      "; Loading \"cl-bqplot\"\n",
      "[package bqplot]............\n"
     ]
    },
    {
     "data": {
      "text/plain": [
       "(:CL-BQPLOT)"
      ]
     },
     "execution_count": 2,
     "metadata": {},
     "output_type": "execute_result"
    }
   ],
   "source": [
    "(ql:quickload :cl-bqplot)"
   ]
  },
  {
   "cell_type": "code",
   "execution_count": 8,
   "metadata": {},
   "outputs": [
    {
     "data": {
      "text/plain": [
       "*X*"
      ]
     },
     "execution_count": 8,
     "metadata": {},
     "output_type": "execute_result"
    }
   ],
   "source": [
    "(defparameter *x* (vector 1 2 3))\n",
    "(defparameter *y* (vector 2 3 5))"
   ]
  },
  {
   "cell_type": "code",
   "execution_count": 10,
   "metadata": {},
   "outputs": [
    {
     "data": {
      "application/vnd.jupyter.widget-view+json": {
       "model_id": "8040BA1D-BE3B-4EFA-A606-E3617A4E2F2E",
       "version_major": 2,
       "version_minor": 0
      },
      "text/html": [
       "<p>Failed to display Jupyter Widget of type <code>{widget_type}</code>.</p>\n",
       "<p>\n",
       "  If you're reading this message in the Jupyter Notebook or JupyterLab Notebook, it may mean\n",
       "  that the widgets JavaScript is still loading. If this message persists, it\n",
       "  likely means that the widgets JavaScript library is either not installed or\n",
       "  not enabled. See the <a href=\"https://ipywidgets.readthedocs.io/en/stable/user_install.html\">Jupyter\n",
       "  Widgets Documentation</a> for setup instructions.\n",
       "</p>\n",
       "<p>\n",
       "  If you're reading this message in another frontend (for example, a static\n",
       "  rendering on GitHub or <a href=\"https://nbviewer.jupyter.org/\">NBViewer</a>),\n",
       "  it may mean that your frontend doesn't currently support widgets.\n",
       "</p>\n"
      ],
      "text/plain": [
       "A Jupyter Widget"
      ]
     },
     "execution_count": 10,
     "metadata": {},
     "output_type": "execute_result"
    }
   ],
   "source": [
    "(make-instance 'bqplot::figure)"
   ]
  },
  {
   "cell_type": "code",
   "execution_count": 6,
   "metadata": {},
   "outputs": [
    {
     "name": "stdout",
     "output_type": "stream",
     "text": [
      "\n",
      "\"scatter working\" \n",
      "\"Inside draw-mark\" \n",
      "\"Inside current-figure\" \n",
      "\"Entered figure function\" In %get-attribute-dimension\n",
      " trait-name is x\n",
      " mark-type is #<BQPLOT::SCATTER>\n",
      "In %get-attribute-dimension\n",
      " trait-name is y\n",
      " mark-type is #<BQPLOT::SCATTER>\n",
      "In %get-attribute-dimension\n",
      " trait-name is color\n",
      " mark-type is #<BQPLOT::SCATTER>\n"
     ]
    },
    {
     "data": {
      "application/vnd.jupyter.widget-view+json": {
       "model_id": "61A622A3-C843-4DDE-AF31-F6874BCAC297",
       "version_major": 2,
       "version_minor": 0
      },
      "text/html": [
       "<p>Failed to display Jupyter Widget of type <code>{widget_type}</code>.</p>\n",
       "<p>\n",
       "  If you're reading this message in the Jupyter Notebook or JupyterLab Notebook, it may mean\n",
       "  that the widgets JavaScript is still loading. If this message persists, it\n",
       "  likely means that the widgets JavaScript library is either not installed or\n",
       "  not enabled. See the <a href=\"https://ipywidgets.readthedocs.io/en/stable/user_install.html\">Jupyter\n",
       "  Widgets Documentation</a> for setup instructions.\n",
       "</p>\n",
       "<p>\n",
       "  If you're reading this message in another frontend (for example, a static\n",
       "  rendering on GitHub or <a href=\"https://nbviewer.jupyter.org/\">NBViewer</a>),\n",
       "  it may mean that your frontend doesn't currently support widgets.\n",
       "</p>\n"
      ],
      "text/plain": [
       "A Jupyter Widget"
      ]
     },
     "execution_count": 6,
     "metadata": {},
     "output_type": "execute_result"
    }
   ],
   "source": [
    "(bqplot::scatter *x* *y*)"
   ]
  },
  {
   "cell_type": "code",
   "execution_count": 5,
   "metadata": {},
   "outputs": [
    {
     "data": {
      "text/plain": [
       "((\"figure\" . #<BQPLOT::FIGURE>) (\"figure_registry\")\n",
       " (\"scales\" (\"y\" . #<BQPLOT::LINEAR-SCALE>) (\"x\" . #<BQPLOT::LINEAR-SCALE>))\n",
       " (\"scale_registry\") (\"last_mark\" . #<BQPLOT::SCATTER>) (\"current_key\"))"
      ]
     },
     "execution_count": 5,
     "metadata": {},
     "output_type": "execute_result"
    }
   ],
   "source": [
    "bqplot::%context"
   ]
  },
  {
   "cell_type": "code",
   "execution_count": 6,
   "metadata": {},
   "outputs": [
    {
     "name": "stdout",
     "output_type": "stream",
     "text": [
      "\n",
      "\n",
      "#<BQPLOT::FIGURE> is an instance of class FIGURE\n",
      "it has the following instance slots\n",
      "%MUTEX:                 #<MUTEX :ANONYMOUS :owner NIL :counter 0 @0x182b52a9>\n",
      "%WIDGET-CONSTRUCTION-CALLBACK:  #<CL-JUPYTER-WIDGETS::CALLBACK-DISPATCHER>\n",
      "%MODEL-NAME:            FigureModel\n",
      "%MODEL-MODULE:          bqplot\n",
      "%MODEL-MODULE-VERSION:  ^0.3.6\n",
      "%VIEW-NAME:             Figure\n",
      "%VIEW-MODULE:           bqplot\n",
      "%VIEW-MODULE-VERSION:   ^0.3.6\n",
      "%VIEW-COUNT:            NULL\n",
      "%COMM:                  #<CL-JUPYTER-WIDGETS::COMM>\n",
      "%KEY-MAP:               ((%MODEL-NAME . _model_name)\n",
      "                         (%MODEL-MODULE . _model_module)\n",
      "                         (%MODEL-MODULE-VERSION . _model_module_version)\n",
      "                         (%VIEW-NAME . _view_name)\n",
      "                         (%VIEW-MODULE . _view_module)\n",
      "                         (%VIEW-MODULE-VERSION . _view_module_version)\n",
      "                         (%VIEW-COUNT . _view_count)\n",
      "                         (%DOM-CLASSES . _dom_classes) (%LAYOUT . layout)\n",
      "                         (TITLE-FIGURE . title) (AXES-FIGURE . axes)\n",
      "                         (MARKS . marks) (INTERACTION . interaction)\n",
      "                         (SCALE-X . scale_x) (SCALE-Y . scale_y)\n",
      "                         (TITLE-STYLE . title_style)\n",
      "                         (BACKGROUND-STYLE . background_style)\n",
      "                         (LEGEND-STYLE . legend_style)\n",
      "                         (LEGEND-TEXT . legend_text) (LAYOUT . layout)\n",
      "                         (MIN-ASPECT-RATIO . min_aspect_ratio)\n",
      "                         (MAX-ASPECT-RATIO . max_aspect_ratio)\n",
      "                         (FIG-MARGIN . fig_margin) (PADDING-X . padding_x)\n",
      "                         (PADDING-Y . padding_y)\n",
      "                         (LEGEND-LOCATION . legend_location)\n",
      "                         (ANIMATION-DURATION . animation_duration))\n",
      "%PROPERTY-LOCK:         NIL\n",
      "%HOLDING-SYNC:          NIL\n",
      "%STATES-TO-SEND:        Unbound\n",
      "%DISPLAY-CALLBACKS:     #<CL-JUPYTER-WIDGETS::CALLBACK-DISPATCHER>\n",
      "%MSG-CALLBACKS:         #<CL-JUPYTER-WIDGETS::CALLBACK-DISPATCHER>\n",
      "%MODEL-ID:              B4399847-8DC7-4044-BF4D-1E9CA790D1EA\n",
      "%IPYTHON-DISPLAY:       %IPYTHON-DISPLAY-CALLBACK\n",
      "%DOM-CLASSES:           #()\n",
      "%LAYOUT:                #<CL-JUPYTER-WIDGETS::LAYOUT>\n",
      "TITLE-FIGURE:           \n",
      "AXES-FIGURE:            #()\n",
      "AXIS-REGISTRY:          NIL\n",
      "MARKS:                  #(#<BQPLOT::SCATTER>)\n",
      "INTERACTION:            NULL\n",
      "SCALE-X:                #<BQPLOT::LINEAR-SCALE>\n",
      "SCALE-Y:                #<BQPLOT::LINEAR-SCALE>\n",
      "TITLE-STYLE:            NIL\n",
      "BACKGROUND-STYLE:       NIL\n",
      "LEGEND-STYLE:           NIL\n",
      "LEGEND-TEXT:            NIL\n",
      "LAYOUT:                 #<CL-JUPYTER-WIDGETS::LAYOUT>\n",
      "MIN-ASPECT-RATIO:       1.0\n",
      "MAX-ASPECT-RATIO:       6.0\n",
      "FIG-MARGIN:             ((top . 60) (bottom . 60) (left . 60) (right . 60))\n",
      "PADDING-X:              0.0\n",
      "PADDING-Y:              0.025\n",
      "LEGEND-LOCATION:        top-right\n",
      "ANIMATION-DURATION:     0\n",
      "PYPLOT:                 NIL\n",
      "it has the following class slots\n",
      "%WIDGETS:               #<HASH-TABLE-EQL :count 0 :total-alist-entries 0 @0x14bb1dc8> \n",
      "%WIDGET-TYPES:          #<CL-JUPYTER-WIDGETS::WIDGET-REGISTRY>\n"
     ]
    },
    {
     "data": {
      "text/plain": [
       "NIL"
      ]
     },
     "execution_count": 6,
     "metadata": {},
     "output_type": "execute_result"
    }
   ],
   "source": [
    "(describe (cdr (assoc \"figure\" bqplot::%context :test #'string=)))"
   ]
  },
  {
   "cell_type": "code",
   "execution_count": 11,
   "metadata": {},
   "outputs": [
    {
     "data": {
      "text/plain": [
       "((\"figure\" . #<BQPLOT::FIGURE>) (\"figure_registry\")\n",
       " (\"scales\" (\"y\" . #<BQPLOT::LINEAR-SCALE>) (\"x\" . #<BQPLOT::LINEAR-SCALE>))\n",
       " (\"scale_registry\") (\"last_mark\" . #<BQPLOT::SCATTER>) (\"current_key\"))"
      ]
     },
     "execution_count": 11,
     "metadata": {},
     "output_type": "execute_result"
    }
   ],
   "source": [
    "bqplot::%context"
   ]
  },
  {
   "cell_type": "code",
   "execution_count": 14,
   "metadata": {},
   "outputs": [
    {
     "name": "stdout",
     "output_type": "stream",
     "text": [
      "FREDOKUN-UTILITIES:[]  Function\n",
      "[]\n",
      "FREDOKUN-UTILITIES:[]-CONTAINS  Function\n"
     ]
    },
    {
     "data": {
      "text/plain": [
       "NIL"
      ]
     },
     "execution_count": 14,
     "metadata": {},
     "output_type": "execute_result"
    }
   ],
   "source": [
    "(apropos \"[]\")"
   ]
  },
  {
   "cell_type": "code",
   "execution_count": 15,
   "metadata": {},
   "outputs": [
    {
     "data": {
      "application/vnd.jupyter.widget-view+json": {
       "model_id": "A4F4DADB-1849-485E-B5DE-C4410F11C0B5",
       "version_major": 2,
       "version_minor": 0
      },
      "text/html": [
       "<p>Failed to display Jupyter Widget of type <code>{widget_type}</code>.</p>\n",
       "<p>\n",
       "  If you're reading this message in the Jupyter Notebook or JupyterLab Notebook, it may mean\n",
       "  that the widgets JavaScript is still loading. If this message persists, it\n",
       "  likely means that the widgets JavaScript library is either not installed or\n",
       "  not enabled. See the <a href=\"https://ipywidgets.readthedocs.io/en/stable/user_install.html\">Jupyter\n",
       "  Widgets Documentation</a> for setup instructions.\n",
       "</p>\n",
       "<p>\n",
       "  If you're reading this message in another frontend (for example, a static\n",
       "  rendering on GitHub or <a href=\"https://nbviewer.jupyter.org/\">NBViewer</a>),\n",
       "  it may mean that your frontend doesn't currently support widgets.\n",
       "</p>\n"
      ],
      "text/plain": [
       "A Jupyter Widget"
      ]
     },
     "execution_count": 15,
     "metadata": {},
     "output_type": "execute_result"
    }
   ],
   "source": [
    "(fredokun-utilities:[] bqplot::%context \"figure\")"
   ]
  },
  {
   "cell_type": "code",
   "execution_count": 16,
   "metadata": {},
   "outputs": [
    {
     "data": {
      "application/vnd.jupyter.widget-view+json": {
       "model_id": "A4F4DADB-1849-485E-B5DE-C4410F11C0B5",
       "version_major": 2,
       "version_minor": 0
      },
      "text/html": [
       "<p>Failed to display Jupyter Widget of type <code>{widget_type}</code>.</p>\n",
       "<p>\n",
       "  If you're reading this message in the Jupyter Notebook or JupyterLab Notebook, it may mean\n",
       "  that the widgets JavaScript is still loading. If this message persists, it\n",
       "  likely means that the widgets JavaScript library is either not installed or\n",
       "  not enabled. See the <a href=\"https://ipywidgets.readthedocs.io/en/stable/user_install.html\">Jupyter\n",
       "  Widgets Documentation</a> for setup instructions.\n",
       "</p>\n",
       "<p>\n",
       "  If you're reading this message in another frontend (for example, a static\n",
       "  rendering on GitHub or <a href=\"https://nbviewer.jupyter.org/\">NBViewer</a>),\n",
       "  it may mean that your frontend doesn't currently support widgets.\n",
       "</p>\n"
      ],
      "text/plain": [
       "A Jupyter Widget"
      ]
     },
     "execution_count": 16,
     "metadata": {},
     "output_type": "execute_result"
    }
   ],
   "source": [
    "(cdr (assoc \"figure\" bqplot::%context :test #'string=))"
   ]
  },
  {
   "cell_type": "code",
   "execution_count": 7,
   "metadata": {},
   "outputs": [
    {
     "data": {
      "application/vnd.jupyter.widget-view+json": {
       "model_id": "FB48EEFB-FBD7-4331-BD87-2EE9797D5A0B",
       "version_major": 2,
       "version_minor": 0
      },
      "text/html": [
       "<p>Failed to display Jupyter Widget of type <code>{widget_type}</code>.</p>\n",
       "<p>\n",
       "  If you're reading this message in the Jupyter Notebook or JupyterLab Notebook, it may mean\n",
       "  that the widgets JavaScript is still loading. If this message persists, it\n",
       "  likely means that the widgets JavaScript library is either not installed or\n",
       "  not enabled. See the <a href=\"https://ipywidgets.readthedocs.io/en/stable/user_install.html\">Jupyter\n",
       "  Widgets Documentation</a> for setup instructions.\n",
       "</p>\n",
       "<p>\n",
       "  If you're reading this message in another frontend (for example, a static\n",
       "  rendering on GitHub or <a href=\"https://nbviewer.jupyter.org/\">NBViewer</a>),\n",
       "  it may mean that your frontend doesn't currently support widgets.\n",
       "</p>\n"
      ],
      "text/plain": [
       "A Jupyter Widget"
      ]
     },
     "execution_count": 7,
     "metadata": {},
     "output_type": "execute_result"
    }
   ],
   "source": [
    "(make-instance 'cljw::int-slider)"
   ]
  },
  {
   "cell_type": "code",
   "execution_count": null,
   "metadata": {},
   "outputs": [],
   "source": []
  }
 ],
 "metadata": {
  "kernelspec": {
   "display_name": "cando",
   "language": "lisp",
   "name": "cando"
  },
  "language_info": {
   "codemirror_mode": "text/x-common-lisp",
   "mimetype": "text/x-common-lisp",
   "name": "common-lisp",
   "pygments_lexer": "common-lisp",
   "version": "X3J13"
  }
 },
 "nbformat": 4,
 "nbformat_minor": 2
}

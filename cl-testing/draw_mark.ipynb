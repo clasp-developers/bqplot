{
 "cells": [
  {
   "cell_type": "code",
   "execution_count": 23,
   "metadata": {},
   "outputs": [],
   "source": [
    "from bqplot import *\n",
    "from bqplot import pyplot as plt \n",
    "import numpy as np"
   ]
  },
  {
   "cell_type": "code",
   "execution_count": 29,
   "metadata": {},
   "outputs": [],
   "source": [
    "def _draw_mark(mark_type, options={}, axes_options={}, **kwargs):\n",
    "    \"\"\"Draw the mark of specified mark type.\n",
    "\n",
    "    Parameters\n",
    "    ----------\n",
    "    mark_type: type\n",
    "        The type of mark to be drawn\n",
    "    options: dict (default: {})\n",
    "        Options for the scales to be created. If a scale labeled 'x' is\n",
    "        required for that mark, options['x'] contains optional keyword\n",
    "        arguments for the constructor of the corresponding scale type.\n",
    "    axes_options: dict (default: {})\n",
    "        Options for the axes to be created. If an axis labeled 'x' is required\n",
    "        for that mark, axes_options['x'] contains optional keyword arguments\n",
    "        for the constructor of the corresponding axis type.\n",
    "    figure: Figure or None\n",
    "        The figure to which the mark is to be added.\n",
    "        If the value is None, the current figure is used.\n",
    "    cmap: list or string\n",
    "        List of css colors, or name of bqplot color scheme\n",
    "    \"\"\"\n",
    "    fig = kwargs.pop('figure', plt.current_figure())\n",
    "    scales = kwargs.pop('scales', {})\n",
    "    update_context = kwargs.pop('update_context', True)\n",
    "\n",
    "    # Set the color map of the color scale\n",
    "    cmap = kwargs.pop('cmap', None)\n",
    "    if cmap is not None:\n",
    "        # Add the colors or scheme to the color scale options\n",
    "        options['color'] = dict(options.get('color', {}),\n",
    "                                **_process_cmap(cmap))\n",
    "\n",
    "    # Going through the list of data attributes\n",
    "    for name in mark_type.class_trait_names(scaled=True):\n",
    "        dimension = plt._get_attribute_dimension(name, mark_type)\n",
    "        # TODO: the following should also happen if name in kwargs and\n",
    "        # scales[name] is incompatible.\n",
    "        if name not in kwargs:\n",
    "            # The scaled attribute is not being passed to the mark. So no need\n",
    "            # create a scale for this.\n",
    "            continue\n",
    "        elif name in scales:\n",
    "            if update_context:\n",
    "                plt._context['scales'][dimension] = scales[name]\n",
    "        # Scale has to be fetched from the context or created as it has not\n",
    "        # been passed.\n",
    "        elif dimension not in plt._context['scales']:\n",
    "            # Creating a scale for the dimension if a matching scale is not\n",
    "            # present in _context['scales']\n",
    "            traitlet = mark_type.class_traits()[name]\n",
    "            rtype = traitlet.get_metadata('rtype')\n",
    "            dtype = traitlet.validate(None, kwargs[name]).dtype\n",
    "            # Fetching the first matching scale for the rtype and dtype of the\n",
    "            # scaled attributes of the mark.\n",
    "            compat_scale_types = [\n",
    "                    Scale.scale_types[key]\n",
    "                    for key in Scale.scale_types\n",
    "                    if Scale.scale_types[key].rtype == rtype and\n",
    "                    np.issubdtype(dtype, Scale.scale_types[key].dtype)\n",
    "                ]\n",
    "            sorted_scales = sorted(compat_scale_types,\n",
    "                                   key=lambda x: x.precedence)\n",
    "            scales[name] = sorted_scales[-1](**options.get(name, {}))\n",
    "            # Adding the scale to the context scales\n",
    "            if update_context:\n",
    "                plt._context['scales'][dimension] = scales[name]\n",
    "        else:\n",
    "            scales[name] = _context['scales'][dimension]\n",
    "\n",
    "    mark = mark_type(scales=scales, **kwargs)\n",
    "    #mark = None #this is turned on when you need to comment out the fig.mark\n",
    "    plt._context['last_mark'] = mark\n",
    "    fig.marks = [m for m in fig.marks] + [mark] #comment out fig.mark and if statement to take the dots away \n",
    "    if kwargs.get('axes', True):\n",
    "        axes(mark, options=axes_options)\n",
    "    return mark\n"
   ]
  },
  {
   "cell_type": "code",
   "execution_count": 30,
   "metadata": {},
   "outputs": [
    {
     "data": {
      "application/vnd.jupyter.widget-view+json": {
       "model_id": "f90d5b93d7084e63b08334c79d2378ab",
       "version_major": 2,
       "version_minor": 0
      },
      "text/plain": [
       "Figure(fig_margin={'top': 60, 'bottom': 60, 'left': 60, 'right': 60}, layout=Layout(min_width='125px'), scale_…"
      ]
     },
     "metadata": {},
     "output_type": "display_data"
    }
   ],
   "source": [
    "plt.figure()"
   ]
  },
  {
   "cell_type": "code",
   "execution_count": 31,
   "metadata": {},
   "outputs": [],
   "source": [
    "def scatter(x, y, **kwargs):\n",
    "    kwargs['x'] = x\n",
    "    kwargs['y'] = y\n",
    "    return _draw_mark(Scatter, **kwargs)"
   ]
  },
  {
   "cell_type": "code",
   "execution_count": 32,
   "metadata": {},
   "outputs": [
    {
     "name": "stderr",
     "output_type": "stream",
     "text": [
      "/opt/clasp/lib/python3.7/site-packages/ipykernel_launcher.py:51: DeprecationWarning: Deprecated in traitlets 4.1, use the instance .metadata dictionary directly, like x.metadata[key] or x.metadata.get(key, default)\n",
      "/opt/clasp/lib/python3.7/site-packages/ipykernel_launcher.py:59: FutureWarning: Conversion of the second argument of issubdtype from `str` to `str` is deprecated. In future, it will be treated as `np.str_ == np.dtype(str).type`.\n"
     ]
    },
    {
     "ename": "TypeError",
     "evalue": "'module' object is not callable",
     "output_type": "error",
     "traceback": [
      "\u001b[0;31m---------------------------------------------------------------------------\u001b[0m",
      "\u001b[0;31mTypeError\u001b[0m                                 Traceback (most recent call last)",
      "\u001b[0;32m<ipython-input-32-b51296cf7b7e>\u001b[0m in \u001b[0;36m<module>\u001b[0;34m\u001b[0m\n\u001b[0;32m----> 1\u001b[0;31m \u001b[0mscatter\u001b[0m\u001b[0;34m(\u001b[0m\u001b[0;34m[\u001b[0m\u001b[0;36m1\u001b[0m\u001b[0;34m,\u001b[0m \u001b[0;36m2\u001b[0m\u001b[0;34m,\u001b[0m \u001b[0;36m3\u001b[0m\u001b[0;34m]\u001b[0m\u001b[0;34m,\u001b[0m \u001b[0;34m[\u001b[0m\u001b[0;36m2\u001b[0m\u001b[0;34m,\u001b[0m \u001b[0;36m4\u001b[0m\u001b[0;34m,\u001b[0m \u001b[0;36m6\u001b[0m\u001b[0;34m]\u001b[0m\u001b[0;34m)\u001b[0m\u001b[0;34m\u001b[0m\u001b[0m\n\u001b[0m",
      "\u001b[0;32m<ipython-input-31-de21d3f53189>\u001b[0m in \u001b[0;36mscatter\u001b[0;34m(x, y, **kwargs)\u001b[0m\n\u001b[1;32m      2\u001b[0m     \u001b[0mkwargs\u001b[0m\u001b[0;34m[\u001b[0m\u001b[0;34m'x'\u001b[0m\u001b[0;34m]\u001b[0m \u001b[0;34m=\u001b[0m \u001b[0mx\u001b[0m\u001b[0;34m\u001b[0m\u001b[0m\n\u001b[1;32m      3\u001b[0m     \u001b[0mkwargs\u001b[0m\u001b[0;34m[\u001b[0m\u001b[0;34m'y'\u001b[0m\u001b[0;34m]\u001b[0m \u001b[0;34m=\u001b[0m \u001b[0my\u001b[0m\u001b[0;34m\u001b[0m\u001b[0m\n\u001b[0;32m----> 4\u001b[0;31m     \u001b[0;32mreturn\u001b[0m \u001b[0m_draw_mark\u001b[0m\u001b[0;34m(\u001b[0m\u001b[0mScatter\u001b[0m\u001b[0;34m,\u001b[0m \u001b[0;34m**\u001b[0m\u001b[0mkwargs\u001b[0m\u001b[0;34m)\u001b[0m\u001b[0;34m\u001b[0m\u001b[0m\n\u001b[0m",
      "\u001b[0;32m<ipython-input-29-55cc1634d723>\u001b[0m in \u001b[0;36m_draw_mark\u001b[0;34m(mark_type, options, axes_options, **kwargs)\u001b[0m\n\u001b[1;32m     73\u001b[0m     \u001b[0mfig\u001b[0m\u001b[0;34m.\u001b[0m\u001b[0mmarks\u001b[0m \u001b[0;34m=\u001b[0m \u001b[0;34m[\u001b[0m\u001b[0mm\u001b[0m \u001b[0;32mfor\u001b[0m \u001b[0mm\u001b[0m \u001b[0;32min\u001b[0m \u001b[0mfig\u001b[0m\u001b[0;34m.\u001b[0m\u001b[0mmarks\u001b[0m\u001b[0;34m]\u001b[0m \u001b[0;34m+\u001b[0m \u001b[0;34m[\u001b[0m\u001b[0mmark\u001b[0m\u001b[0;34m]\u001b[0m \u001b[0;31m#comment out fig.mark and if statement to take the dots away\u001b[0m\u001b[0;34m\u001b[0m\u001b[0m\n\u001b[1;32m     74\u001b[0m     \u001b[0;32mif\u001b[0m \u001b[0mkwargs\u001b[0m\u001b[0;34m.\u001b[0m\u001b[0mget\u001b[0m\u001b[0;34m(\u001b[0m\u001b[0;34m'axes'\u001b[0m\u001b[0;34m,\u001b[0m \u001b[0;32mTrue\u001b[0m\u001b[0;34m)\u001b[0m\u001b[0;34m:\u001b[0m\u001b[0;34m\u001b[0m\u001b[0m\n\u001b[0;32m---> 75\u001b[0;31m         \u001b[0maxes\u001b[0m\u001b[0;34m(\u001b[0m\u001b[0mmark\u001b[0m\u001b[0;34m,\u001b[0m \u001b[0moptions\u001b[0m\u001b[0;34m=\u001b[0m\u001b[0maxes_options\u001b[0m\u001b[0;34m)\u001b[0m\u001b[0;34m\u001b[0m\u001b[0m\n\u001b[0m\u001b[1;32m     76\u001b[0m     \u001b[0;32mreturn\u001b[0m \u001b[0mmark\u001b[0m\u001b[0;34m\u001b[0m\u001b[0m\n",
      "\u001b[0;31mTypeError\u001b[0m: 'module' object is not callable"
     ]
    }
   ],
   "source": [
    "scatter([1, 2, 3], [2, 4, 6])"
   ]
  },
  {
   "cell_type": "code",
   "execution_count": null,
   "metadata": {},
   "outputs": [],
   "source": []
  },
  {
   "cell_type": "code",
   "execution_count": null,
   "metadata": {},
   "outputs": [],
   "source": []
  }
 ],
 "metadata": {
  "kernelspec": {
   "display_name": "Python 3",
   "language": "python",
   "name": "python3"
  },
  "language_info": {
   "codemirror_mode": {
    "name": "ipython",
    "version": 3
   },
   "file_extension": ".py",
   "mimetype": "text/x-python",
   "name": "python",
   "nbconvert_exporter": "python",
   "pygments_lexer": "ipython3",
   "version": "3.7.0"
  }
 },
 "nbformat": 4,
 "nbformat_minor": 2
}
